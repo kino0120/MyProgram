{
 "cells": [
  {
   "cell_type": "code",
   "execution_count": null,
   "metadata": {},
   "outputs": [],
   "source": [
    "from ipywidgets import Textarea\n",
    "\n",
    "def get_input(change):\n",
    "    global Input\n",
    "    Input=change[\"new\"]\n",
    "\n",
    "textarea = Textarea()\n",
    "textarea.observe(get_input, names='value')\n",
    "display(textarea)\n",
    "\n",
    "\n",
    "from heapq import *\n",
    "\n",
    "def dijkstra(start,node,edge):\n",
    "    #始点sから各頂点への最短距離\n",
    "    #node:頂点数\n",
    "    #d:各頂点へのコスト(存在しないときはinf)\n",
    "    #q:キュー(スタートからのコスト,頂点)\n",
    "    d = [float(\"inf\")] * node\n",
    "    d[start] = 0\n",
    "    #スタートをキューに入れる\n",
    "    q = [(0,start)]\n",
    "\n",
    "    while(len(q) != 0):\n",
    "    #キューの先頭を取得\n",
    "      ci,i = heappop(q)\n",
    "      if(d[i] < ci):\n",
    "        continue\n",
    "    #キューの先頭から繋がっている頂点を探索\n",
    "      for cj,j in edge[i]:\n",
    "        if(d[j] > d[i] + cj):\n",
    "          d[j] = d[i] + cj\n",
    "          heappush(q,(d[j], j))\n",
    "    return d\n",
    "#入力\n",
    "N,M,T = (int(x) for x in Input.split())\n",
    "A = list(map(int, Input.split()))\n",
    "#二種類のエッジ\n",
    "E1 = [[] for _ in [0]*N]\n",
    "E2 = [[] for _ in [0]*N]\n",
    "\n",
    "for i in range(M):\n",
    "  a,b,c = (int(x) for x in Input.split())\n",
    "  E1[a-1].append((c,b-1))\n",
    "  E2[b-1].append((c,a-1))\n",
    "\n",
    "go = dijkstra(0, N, E1)\n",
    "back = dijkstra(0, N, E2)\n",
    "ans = 0\n",
    "for v in range(N):\n",
    "    rem = T - (go[v] + back[v])\n",
    "    ans = max(ans, rem*A[v])\n",
    "print(int(ans))"
   ]
  },
  {
   "cell_type": "code",
   "execution_count": 6,
   "metadata": {},
   "outputs": [
    {
     "data": {
      "application/vnd.jupyter.widget-view+json": {
       "model_id": "41c28ebb07194e98a30ee6c25695e11e",
       "version_major": 2,
       "version_minor": 0
      },
      "text/plain": [
       "Textarea(value='')"
      ]
     },
     "metadata": {},
     "output_type": "display_data"
    }
   ],
   "source": [
    "from ipywidgets import Textarea\n",
    "\n",
    "def get_input(change):\n",
    "    global Input\n",
    "    Input=change[\"new\"]\n",
    "\n",
    "textarea = Textarea()\n",
    "textarea.observe(get_input, names='value')\n",
    "display(textarea)\n",
    "\n",
    "#jupyterの別枠で\n",
    "\n",
    "#n,*a=Input.split()\n",
    "#print(n,a)"
   ]
  },
  {
   "cell_type": "code",
   "execution_count": null,
   "metadata": {},
   "outputs": [],
   "source": []
  }
 ],
 "metadata": {
  "kernelspec": {
   "display_name": "Python 3",
   "language": "python",
   "name": "python3"
  },
  "language_info": {
   "codemirror_mode": {
    "name": "ipython",
    "version": 3
   },
   "file_extension": ".py",
   "mimetype": "text/x-python",
   "name": "python",
   "nbconvert_exporter": "python",
   "pygments_lexer": "ipython3",
   "version": "3.7.3"
  }
 },
 "nbformat": 4,
 "nbformat_minor": 2
}
