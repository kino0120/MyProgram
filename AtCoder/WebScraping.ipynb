{
 "cells": [
  {
   "cell_type": "code",
   "execution_count": 1,
   "metadata": {},
   "outputs": [],
   "source": [
    "from selenium import webdriver\n",
    "from selenium.webdriver.common.action_chains import ActionChains\n",
    "from selenium.webdriver.common.keys import Keys\n",
    "import pandas as pd"
   ]
  },
  {
   "cell_type": "code",
   "execution_count": 2,
   "metadata": {},
   "outputs": [],
   "source": [
    "browser = webdriver.Chrome()\n",
    "browser.get('https://kinrou.sas-cloud.jp/kinrou/kojin/')"
   ]
  },
  {
   "cell_type": "code",
   "execution_count": 3,
   "metadata": {},
   "outputs": [],
   "source": [
    "elem_com = browser.find_element_by_id('houjin_code')\n",
    "elem_com.send_keys('10338')\n",
    "elem_worker = browser.find_element_by_id('user_id')\n",
    "elem_worker.send_keys('0000014647')\n",
    "elem_pass = browser.find_element_by_id('password')\n",
    "elem_pass.send_keys('kino@0120')\n",
    "elem_btn = browser.find_element_by_id('bt')\n",
    "elem_btn.click()"
   ]
  },
  {
   "cell_type": "code",
   "execution_count": 4,
   "metadata": {},
   "outputs": [],
   "source": [
    "from selenium.webdriver.support.ui import Select\n",
    "select_month_element = browser.find_element_by_name('selectedMonth')\n",
    "select_year_element = browser.find_element_by_name('selectedYear')\n",
    "select_month_element = Select(select_month_element)\n",
    "select_year_element.clear()\n",
    "select_year_element.send_keys('2020')\n",
    "select_month_element.select_by_value('01')\n",
    "elem_btn = browser.find_element_by_name('changeGetudo')\n",
    "elem_btn.click()"
   ]
  },
  {
   "cell_type": "code",
   "execution_count": 5,
   "metadata": {},
   "outputs": [],
   "source": [
    "elem_btn2 = browser.find_elements_by_id('popover')\n",
    "elem_btn2[1].click()"
   ]
  },
  {
   "cell_type": "code",
   "execution_count": 6,
   "metadata": {},
   "outputs": [],
   "source": [
    "work_time_table = browser.find_element_by_id('id_data_table_body')"
   ]
  },
  {
   "cell_type": "code",
   "execution_count": 7,
   "metadata": {},
   "outputs": [],
   "source": [
    "table_row = work_time_table.find_elements_by_class_name('cell_height_size')"
   ]
  },
  {
   "cell_type": "code",
   "execution_count": 8,
   "metadata": {},
   "outputs": [],
   "source": [
    "df1 = []\n",
    "for row in table_row:\n",
    "    row_items = row.find_elements_by_tag_name('td')\n",
    "    row_items_text = [item.text for item in row_items]\n",
    "    df1.append(row_items_text)\n",
    "df1 =  pd.DataFrame(df1)"
   ]
  },
  {
   "cell_type": "code",
   "execution_count": 9,
   "metadata": {},
   "outputs": [],
   "source": [
    "TrueCol = [23,24,25,27]\n",
    "df1 = df1.iloc[:,TrueCol]\n",
    "df1.columns = ['残業時間', '深夜時間', '休日出勤', '基本時間']"
   ]
  },
  {
   "cell_type": "code",
   "execution_count": 10,
   "metadata": {},
   "outputs": [],
   "source": [
    "df2 = []\n",
    "targets = ['_1_47', '_1_48', '_2_59']\n",
    "for index, row in enumerate(table_row):\n",
    "    row_items = [row.find_elements_by_name('dataList[{}].column{}'.format(index,target)) for target in targets]\n",
    "    row_items_text = [item[0].get_attribute(\"value\") for item in row_items]\n",
    "    df2.append(row_items_text)\n",
    "df2 = pd.DataFrame(df2)"
   ]
  },
  {
   "cell_type": "code",
   "execution_count": 11,
   "metadata": {},
   "outputs": [],
   "source": [
    "df2.columns = ['作業開始', '作業終了', '休憩時間']"
   ]
  },
  {
   "cell_type": "code",
   "execution_count": 12,
   "metadata": {},
   "outputs": [],
   "source": [
    "df_time = pd.concat([df2, df1], axis=1)\n",
    "df_time = df_time.loc[:,['作業開始','作業終了','休憩時間','基本時間','残業時間','深夜時間','休日出勤']]"
   ]
  },
  {
   "cell_type": "code",
   "execution_count": null,
   "metadata": {},
   "outputs": [],
   "source": []
  },
  {
   "cell_type": "code",
   "execution_count": 13,
   "metadata": {},
   "outputs": [
    {
     "name": "stdout",
     "output_type": "stream",
     "text": [
      "    0 1       2      3  4         5 6         7\n",
      "0                01/01  水        休日          休日\n",
      "1                01/02  木     会社指定休       会社指定休\n",
      "2                01/03  金     会社指定休       会社指定休\n",
      "3                01/04  土        休日          休日\n",
      "4                01/05  日        休日          休日\n",
      "5   自    702417  01/06  月  ｵﾌｨｽ（業務）    09001745\n",
      "6   自    702417  01/07  火  ｵﾌｨｽ（業務）    09001745\n",
      "7   自    702417  01/08  水  ｵﾌｨｽ（業務）    09001745\n",
      "8   自    702417  01/09  木  ｵﾌｨｽ（業務）    09001745\n",
      "9   自    702417  01/10  金  ｵﾌｨｽ（業務）    09001745\n",
      "10               01/11  土        休日          休日\n",
      "11               01/12  日        休日          休日\n",
      "12               01/13  月        休日          休日\n",
      "13  自    716316  01/14  火  ｵﾌｨｽ（業務）    09001745\n",
      "14  自    716316  01/15  水  ｵﾌｨｽ（業務）    09001745\n",
      "15  自    716316  01/16  木  ｵﾌｨｽ（業務）    09001745\n",
      "16  自    716316  01/17  金  ｵﾌｨｽ（業務）    09001745\n",
      "17  自    716316  01/18  土  ｵﾌｨｽ（業務）    09001745\n",
      "18               01/19  日        休日          休日\n",
      "19  自    716316  01/20  月  ｵﾌｨｽ（業務）    09001745\n",
      "20  自    716316  01/21  火  ｵﾌｨｽ（業務）    09001745\n",
      "21  自    716316  01/22  水  ｵﾌｨｽ（業務）    09001745\n",
      "22  自    716316  01/23  木  ｵﾌｨｽ（業務）    09001745\n",
      "23  自    716316  01/24  金  ｵﾌｨｽ（業務）    09001745\n",
      "24               01/25  土        休日          休日\n",
      "25               01/26  日        休日          休日\n",
      "26  自    727090  01/27  月  ｵﾌｨｽ（業務）    09001745\n",
      "27  自    727090  01/28  火  ｵﾌｨｽ（業務）    09001745\n",
      "28  自    727090  01/29  水  ｵﾌｨｽ（業務）    09001745\n",
      "29  自    727090  01/30  木  ｵﾌｨｽ（業務）    09001745\n",
      "30  自    727090  01/31  金  ｵﾌｨｽ（業務）    09001745\n"
     ]
    }
   ],
   "source": [
    "date_table = browser.find_element_by_id('id_hidari_kotei_body')\n",
    "date_table_row = date_table.find_elements_by_class_name('cell_height_size')\n",
    "df3 = []\n",
    "for num, row in enumerate(date_table_row):\n",
    "    row_items = row.find_elements_by_tag_name('td')\n",
    "    row_items_text = [item.text for item in row_items]\n",
    "    df3.append(row_items_text)\n",
    "#     target = date_table_row[num]\n",
    "#     actions = ActionChains(browser)\n",
    "#     actions.move_to_element(target)\n",
    "#     actions.perform()\n",
    "df3 =  pd.DataFrame(df3)\n",
    "\n",
    "#途中までしか拾えないので、一番下までスクロールしてからもう一度データを収拾する\n",
    "browser.find_element_by_tag_name('body').send_keys(Keys.END)\n",
    "\n",
    "date_table_row = date_table.find_elements_by_class_name('cell_height_size')\n",
    "df4 = []\n",
    "for num, row in enumerate(date_table_row):\n",
    "    row_items = row.find_elements_by_tag_name('td')\n",
    "    row_items_text = [item.text for item in row_items]\n",
    "    df4.append(row_items_text)\n",
    "df4 =  pd.DataFrame(df4)\n",
    "\n",
    "df_date = pd.concat([df3.iloc[:15], df4.iloc[15:]])\n",
    "print(df_date)\n",
    "browser.close()"
   ]
  },
  {
   "cell_type": "code",
   "execution_count": 14,
   "metadata": {},
   "outputs": [
    {
     "name": "stdout",
     "output_type": "stream",
     "text": [
      "        日  曜\n",
      "0   01/01  水\n",
      "1   01/02  木\n",
      "2   01/03  金\n",
      "3   01/04  土\n",
      "4   01/05  日\n",
      "5   01/06  月\n",
      "6   01/07  火\n",
      "7   01/08  水\n",
      "8   01/09  木\n",
      "9   01/10  金\n",
      "10  01/11  土\n",
      "11  01/12  日\n",
      "12  01/13  月\n",
      "13  01/14  火\n",
      "14  01/15  水\n",
      "15  01/16  木\n",
      "16  01/17  金\n",
      "17  01/18  土\n",
      "18  01/19  日\n",
      "19  01/20  月\n",
      "20  01/21  火\n",
      "21  01/22  水\n",
      "22  01/23  木\n",
      "23  01/24  金\n",
      "24  01/25  土\n",
      "25  01/26  日\n",
      "26  01/27  月\n",
      "27  01/28  火\n",
      "28  01/29  水\n",
      "29  01/30  木\n",
      "30  01/31  金\n"
     ]
    }
   ],
   "source": [
    "df_date = df_date.iloc[:, [3,4]]\n",
    "df_date.columns = ['日', '曜']\n",
    "print(df_date)"
   ]
  },
  {
   "cell_type": "code",
   "execution_count": 15,
   "metadata": {},
   "outputs": [],
   "source": [
    "#df_date.iloc[:,0]　= [for i.split('月')[1] in df_date.iloc[:,1]]\n",
    "#df_date['日']=[i.split('/')[1] for i in df_date['日']]"
   ]
  },
  {
   "cell_type": "code",
   "execution_count": 17,
   "metadata": {},
   "outputs": [],
   "source": [
    "df_all = pd.concat([df_date, df_time], axis = 1)\n",
    "df_all.to_csv('業務日報_data.csv',encoding='utf-8-sig')"
   ]
  },
  {
   "cell_type": "code",
   "execution_count": null,
   "metadata": {},
   "outputs": [],
   "source": []
  },
  {
   "cell_type": "code",
   "execution_count": null,
   "metadata": {},
   "outputs": [],
   "source": []
  },
  {
   "cell_type": "code",
   "execution_count": null,
   "metadata": {},
   "outputs": [],
   "source": []
  },
  {
   "cell_type": "code",
   "execution_count": null,
   "metadata": {},
   "outputs": [],
   "source": []
  }
 ],
 "metadata": {
  "kernelspec": {
   "display_name": "Python 3",
   "language": "python",
   "name": "python3"
  },
  "language_info": {
   "codemirror_mode": {
    "name": "ipython",
    "version": 3
   },
   "file_extension": ".py",
   "mimetype": "text/x-python",
   "name": "python",
   "nbconvert_exporter": "python",
   "pygments_lexer": "ipython3",
   "version": "3.7.3"
  }
 },
 "nbformat": 4,
 "nbformat_minor": 2
}
