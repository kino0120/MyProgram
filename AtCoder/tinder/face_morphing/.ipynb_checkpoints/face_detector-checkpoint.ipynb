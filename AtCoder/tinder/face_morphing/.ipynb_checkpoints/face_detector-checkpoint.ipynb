{
 "cells": [
  {
   "cell_type": "code",
   "execution_count": 1,
   "metadata": {},
   "outputs": [],
   "source": [
    "import cv2\n",
    "import dlib\n",
    "import numpy"
   ]
  },
  {
   "cell_type": "code",
   "execution_count": null,
   "metadata": {},
   "outputs": [],
   "source": [
    "# 学習済みモデルをpredictorに適用\n",
    "PREDICTOR_PATH = \"./data/shape_predictor_68_face_landmarks.dat\"\n",
    "predictor = dlib.shape_predictor(PEDICTOR_PATH)\n",
    "\n",
    "# openCVのパスを\n",
    "cascade_path = '/anaconda3/lib/python3.7/site-packages/cv2/data/haarcascade_frontalface_default.xml'\n",
    "cascade = cv2.CascadeClassifier(cascade_path)\n",
    "\n",
    "def get_landmarks(image):\n",
    "    rects = cascade.detectMultiScale(image, 1.3 , 5)\n",
    "    (x,y,w,h) = rects[0]\n",
    "    rect = dlib.rectangle(x, y, w, y+h)\n",
    "    return numpy.matrix([[p.x, p.y] for p in predictor(image, rect).parts()])\n",
    "\n",
    "def annotate_landmarks(image, landmarks):\n",
    "    image = image.copy()\n",
    "    for idx, point in enumerate(landmarks):\n",
    "        pos = (point[0,0], point[0,1])\n",
    "        cv2.putText(image, str(idx), pos, fonrFace=cv2.FONT_HERSHEY_SCRIPT_SIMPLEX, font)\n",
    "    "
   ]
  }
 ],
 "metadata": {
  "kernelspec": {
   "display_name": "Python 3",
   "language": "python",
   "name": "python3"
  },
  "language_info": {
   "codemirror_mode": {
    "name": "ipython",
    "version": 3
   },
   "file_extension": ".py",
   "mimetype": "text/x-python",
   "name": "python",
   "nbconvert_exporter": "python",
   "pygments_lexer": "ipython3",
   "version": "3.7.3"
  }
 },
 "nbformat": 4,
 "nbformat_minor": 2
}
