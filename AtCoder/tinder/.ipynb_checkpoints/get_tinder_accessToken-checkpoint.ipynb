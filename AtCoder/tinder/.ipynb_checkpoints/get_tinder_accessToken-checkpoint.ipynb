{
 "cells": [
  {
   "cell_type": "code",
   "execution_count": 1,
   "metadata": {},
   "outputs": [
    {
     "name": "stdout",
     "output_type": "stream",
     "text": [
      "EAAGm0PX4ZCpsBAFrk1yjTYBET0mTZA9ZBD1jLZBO5PBi9WnMQZCxlvnDNZCv3t4OKWW6ZCpQBxsRJYeZANtKZBsJrCFaBSga3qXs9thlPmDZBQf5ZBXZAg5UKy7loCU444ZCFx7IZASJoPM9vM8ZCW7ruPDamwwxugtHTLQd7bBZBDnzmKXD9Tio5caodygE1ZCto1Uv9gzABmCvW354w2QZDZD\n"
     ]
    }
   ],
   "source": [
    "import re\n",
    "from bs4 import BeautifulSoup\n",
    "import requests\n",
    "import sys\n",
    "\n",
    "\n",
    "def getAccessToken(email, password):\n",
    "    FB_AUTH = \"https://www.facebook.com/login.php?skip_api_login=1&api_key=464891386855067&kid_directed_site=0&app_id=464891386855067&signed_next=1&next=https%3A%2F%2Fwww.facebook.com%2Fv2.8%2Fdialog%2Foauth%3Fapp_id%3D464891386855067%26channel_url%3Dhttps%253A%252F%252Fstaticxx.facebook.com%252Fconnect%252Fxd_arbiter.php%253Fversion%253D44%2523cb%253Df3fbdfb8e54d14c%2526domain%253Dtinder.com%2526origin%253Dhttps%25253A%25252F%25252Ftinder.com%25252Ff3017f04f989f3c%2526relation%253Dopener%26client_id%3D464891386855067%26display%3Dpopup%26domain%3Dtinder.com%26e2e%3D%257B%257D%26fallback_redirect_uri%3Dhttps%253A%252F%252Ftinder.com%252F%26locale%3Dja_JP%26origin%3D1%26redirect_uri%3Dhttps%253A%252F%252Fstaticxx.facebook.com%252Fconnect%252Fxd_arbiter.php%253Fversion%253D44%2523cb%253Df247314c2ec0694%2526domain%253Dtinder.com%2526origin%253Dhttps%25253A%25252F%25252Ftinder.com%25252Ff3017f04f989f3c%2526relation%253Dopener%2526frame%253Df32630633c95a9%26response_type%3Dtoken%252Csigned_request%26scope%3Duser_birthday%252Cuser_photos%252Cemail%252Cuser_friends%252Cuser_likes%26sdk%3Djoey%26version%3Dv2.8%26ret%3Dlogin%26fbapp_pres%3D0%26logger_id%3Df4b8f869-06c6-44c6-ad74-5910383fd32e&cancel_url=https%3A%2F%2Fstaticxx.facebook.com%2Fconnect%2Fxd_arbiter.php%3Fversion%3D44%23cb%3Df247314c2ec0694%26domain%3Dtinder.com%26origin%3Dhttps%253A%252F%252Ftinder.com%252Ff3017f04f989f3c%26relation%3Dopener%26frame%3Df32630633c95a9%26error%3Daccess_denied%26error_code%3D200%26error_description%3DPermissions%2Berror%26error_reason%3Duser_denied&display=popup&locale=ja_JP\"\n",
    "    data = {\"email\": email, \"pass\": password}\n",
    "    with requests.Session() as s:\n",
    "        # ログイン画面へ\n",
    "        response = s.get(FB_AUTH)\n",
    "\n",
    "        # ログインフォームの送信先URLを取得\n",
    "        soup = BeautifulSoup(response.text, \"html.parser\")\n",
    "        action = soup.form.get(\"action\")\n",
    "        action = \"https://www.facebook.com/\" + action\n",
    "\n",
    "        # ログインフォームを送信\n",
    "        response = s.post(action, data=data)\n",
    "\n",
    "        # 返り値からtokenを取得\n",
    "        access_token = re.search(\n",
    "            r\"access_token=([\\w\\d]+)\", response.text).groups()[0]\n",
    "    return access_token\n",
    "\n",
    "\n",
    "# アクセストークンを確認したい時に使用\n",
    "if __name__ == \"__main__\":\n",
    "    argc = len(sys.argv)\n",
    "    if argc < 3:\n",
    "        print(\"Usage: python accessToken.py email password\")\n",
    "        sys.exit(1)\n",
    "    email = sys.argv[1]\n",
    "    password = sys.argv[2]\n",
    "    print(getAccessToken('kinopee0120@gmail.com', 'kinopee0120'))"
   ]
  },
  {
   "cell_type": "code",
   "execution_count": 3,
   "metadata": {},
   "outputs": [
    {
     "name": "stdout",
     "output_type": "stream",
     "text": [
      "{\"meta\":{\"status\":200},\"data\":{\"_id\":\"54669869d4ee9bc227702acf\",\"api_token\":\"04dc2f81-5b6b-4e40-9aae-ddd7d663cb10\",\"refresh_token\":\"eyJhbGciOiJIUzI1NiJ9.NjQxNDQ1NDE1OTUzNjE2.VnzMLMfv5RoEAac6SMYWehwla9pVFWgyegOcJ-qLThc\",\"is_new_user\":false}}\n"
     ]
    }
   ],
   "source": [
    "import requests\n",
    "import json\n",
    "\n",
    "FBemail = \"kinopee0120@gmail.com\"\n",
    "FBpass = \"kinopee0120\"\n",
    "\n",
    "#Tinderのトークンの取得\n",
    "with requests.Session() as s:\n",
    "    params = {\"token\": 'EAAGm0PX4ZCpsBADqt4zSWuwBPG34cRzbZCZB9XGwoFjYlRR0nDqsOOzxJ0bbW1NIli95XzpoNXpx8Takqp4WiKrfbiPPAoXaOJ2VYWzL3nZATIKcW0UHFQAjZAYvGVLBsdN6ZBTBmxZAxwIahCLQoTGVArOi4wGvSTZC4BaHlVSHKsIEvg1X2bqPGOXH5lq87FdKLaSAZBDgZBywZDZD'}\n",
    "    response = s.post(\n",
    "        \"https://api.gotinder.com/v2/auth/login/facebook\", data=json.dumps(params))\n",
    "    print(response.text)"
   ]
  },
  {
   "cell_type": "code",
   "execution_count": 4,
   "metadata": {},
   "outputs": [
    {
     "name": "stdout",
     "output_type": "stream",
     "text": [
      "{\"status\":200,\"account\":{},\"client_resources\":{\"rate_card\":{\"carousel\":[{\"slug\":\"unlimited_likes\"},{\"slug\":\"boost\"},{\"slug\":\"who_sees_you\"},{\"slug\":\"passport\"},{\"slug\":\"your_profile\"},{\"slug\":\"super_like\"},{\"slug\":\"undo\"},{\"slug\":\"no_ads\"}]},\"plus_screen\":[\"unlimited_swipes\",\"boost\",\"who_you_see\",\"who_sees_you\",\"passport\",\"your_profile\",\"super_like\",\"undo\",\"hide_ads\"]},\"notifications\":[],\"groups\":[],\"rating\":{\"likes_remaining\":100,\"super_likes\":{\"remaining\":1,\"alc_remaining\":0,\"new_alc_remaining\":0,\"allotment\":1,\"superlike_refresh_amount\":5,\"superlike_refresh_interval\":1,\"superlike_refresh_interval_unit\":\"d\",\"resets_at\":null}},\"travel\":{\"is_traveling\":false},\"purchases\":[],\"versions\":{\"active_text\":\"0.0.0\",\"age_filter\":\"2.1.0\",\"matchmaker\":\"2.1.0\",\"trending\":\"10.0.0\",\"trending_active_text\":\"10.0.0\"},\"globals\":{\"boost_intro_multiplier\":10,\"invite_type\":\"client\",\"recs_interval\":20000,\"updates_interval\":2000,\"recs_size\":40,\"matchmaker_default_message\":\"I want you to meet someone. I introduced you on Tinder www.gotinder.com/app\",\"share_default_text\":\"<style>body{color:#fff;text-align:center;font-family:HelveticaNeue;text-shadow:0 1px 1px rgba(0,0,0,0.63);}h1{font-size:24px;line-height:24px;margin:0;}p{font-size:16px;margin:8px;}</style><h1>Get a Boost</h1><p><strong>Invite friends</strong> to show up <br/><strong>even higher</strong> in recommendations.</p>\",\"boost_decay\":180,\"boost_up\":7,\"boost_down\":8,\"sparks\":false,\"kontagent\":false,\"sparks_enabled\":false,\"kontagent_enabled\":false,\"mqtt\":false,\"tinder_sparks\":true,\"ad_swipe_interval\":20,\"fetch_connections\":false,\"rate_app\":true,\"app_boy\":true,\"super_like_alc_mode\":2,\"plus\":true,\"super_like\":true,\"recs_blend\":false,\"credit_card\":{\"variant\":2,\"price_tos_on_top\":false},\"squads_enabled\":false,\"squads_extension_length\":86400000,\"squads_expiration_notice\":21600000,\"photo_preview_enabled\":false,\"discount\":true,\"crm_inbox_enabled\":true,\"boost\":false,\"boost_duration\":1800000,\"fast_match\":true,\"fast_match_preview_minimum_time\":180000,\"fast_match_notif_options\":[0,1,3,10],\"fast_match_notif_default\":1,\"fast_match_new_count_fetch_interval\":10000,\"fast_match_boost_new_count_fetch_interval\":2000,\"fast_match_new_count_threshold\":99,\"fast_match_polling_mode\":1,\"fast_match_entry_point\":true,\"fast_match_use_teaser_endpoint\":true,\"top_picks\":true,\"top_picks_local_daily_enabled\":true,\"top_picks_local_daily_msg\":\"Your daily Top Picks are ready. 💎 Tap to view.\",\"top_picks_local_daily_offsets\":{\"offset0\":-1,\"offset1\":30264724,\"offset2\":44664724,\"offset3\":62664724},\"top_picks_free_daily\":false,\"top_picks_num_free_rated_limit\":1,\"top_picks_refresh_interval\":86400000,\"top_picks_lookahead\":7,\"top_picks_post_swipe_paywall\":false,\"intro_pricing\":true,\"paywall_full_price\":true,\"paywall_e1\":true,\"paywall_e2\":true,\"paywall_bouncer_avatar\":true,\"paywall_e3\":2,\"paywall_e4\":2,\"paywall_pbls\":false,\"merchandising_gold_v1_enabled\":false,\"merchandising_gold_v2_enabled\":false,\"can_edit_jobs\":true,\"can_edit_schools\":true,\"can_edit_email\":true,\"can_add_photos_from_facebook\":true,\"can_show_common_connections\":true,\"web_payments_enabled\":true,\"card_replay\":false,\"typing_indicator\":{\"typing_heartbeat\":2000,\"typing_ttl\":5000},\"profile\":{\"school_name_max_length\":128,\"job_title_max_length\":128,\"company_name_max_length\":128},\"email_prompt_required\":false,\"email_prompt_dismissible\":false,\"email_prompt_show_marketing_opt_in\":false,\"email_prompt_show_strict_opt_in\":false,\"swipe_surge\":false},\"tutorials\":[\"profile_verified\",\"welcome_screen\",\"message_standards\",\"fast_match_tooltip_initial\",\"fast_match_entry_point_view\",\"fast_match_tooltip_reminder\",\"places_onboarding\",\"places_edit_place_tooltip\",\"places_toggle_tooltip\",\"places_swipe_tutorial\",\"places_accuracy_survey\",\"places_not_now_survey\",\"top_picks_toggle_tooltip\",\"tinder_u_intro\",\"vinyl_tooltip\",\"match_sort_tooltip\",\"selfie_verification_start_tooltip\",\"selfie_verification_complete_tooltip\"],\"products\":{\"superlike\":{\"regular\":{\"skus\":[{\"product_type\":\"superlike\",\"purchase_type\":\"consumable\",\"product_id\":\"superlike_consumable_499_5\",\"amount\":5,\"is_base_group\":true},{\"product_type\":\"superlike\",\"purchase_type\":\"consumable\",\"product_id\":\"superlike_consumable_1999_25\",\"amount\":25,\"is_primary\":true},{\"product_type\":\"superlike\",\"purchase_type\":\"consumable\",\"product_id\":\"superlike_consumable_3999_60\",\"amount\":60}]}},\"boost\":{\"regular\":{\"skus\":[{\"product_type\":\"boost\",\"purchase_type\":\"consumable\",\"product_id\":\"boost_consumable_3999_10\",\"amount\":10},{\"product_type\":\"boost\",\"purchase_type\":\"consumable\",\"product_id\":\"boost_consumable_2499_5\",\"amount\":5,\"is_primary\":true},{\"product_type\":\"boost\",\"purchase_type\":\"consumable\",\"product_id\":\"boost_consumable_599_1\",\"amount\":1,\"is_base_group\":true}]}}},\"user\":{\"_id\":\"54669869d4ee9bc227702acf\",\"active_time\":\"2019-10-14T09:48:21.304Z\",\"age_filter_max\":30,\"age_filter_min\":18,\"api_token\":\"04dc2f81-5b6b-4e40-9aae-ddd7d663cb10\",\"bio\":\"あけましておめでとうございます\\n\\n\\nYouTubeにPVあげてるくらいには真面目に音楽やってた\\n邦楽全般詳しいので話せる方いたら〜\\n\\n仕事ではpythonでデータ処理\\n\\n\\n古着と音楽とプログラミング\\n\\n趣味は作曲\\n\\n理系です\\n\\nsora tob sakana と おやすみプンプン\",\"birth_date\":\"1992-10-17T10:29:40.660Z\",\"blend\":\"optimal\",\"create_date\":\"2014-11-15T00:03:53.459Z\",\"top_picks_discoverable\":true,\"discoverable\":true,\"connection_count\":672,\"interests\":[{\"id\":\"324693375043747\",\"created_time\":\"2019-01-17T13:47:49+0000\",\"name\":\"先進技術アワード　農業2.0\"},{\"id\":\"408084162905713\",\"created_time\":\"2017-05-30T15:02:56+0000\",\"name\":\"食べチョク\"},{\"id\":\"1979277325630998\",\"created_time\":\"2017-02-09T16:27:32+0000\",\"name\":\"TIMELINE - タイムライン\"},{\"id\":\"207411159708095\",\"created_time\":\"2016-12-06T14:57:27+0000\",\"name\":\"株式会社ビビッドガーデン\"},{\"id\":\"43050376721\",\"created_time\":\"2016-08-16T13:11:14+0000\",\"name\":\"toe\"},{\"id\":\"740204502673377\",\"created_time\":\"2016-08-16T13:07:51+0000\",\"name\":\"清竜人\"},{\"id\":\"1452885488323307\",\"created_time\":\"2016-08-16T13:07:23+0000\",\"name\":\"Suchmos\"},{\"id\":\"208977635780819\",\"created_time\":\"2016-08-16T13:07:14+0000\",\"name\":\"the band apart\"},{\"id\":\"1381387548767449\",\"created_time\":\"2016-04-05T14:49:56+0000\",\"name\":\"リクルートの「わ」\"},{\"id\":\"149317818465073\",\"created_time\":\"2016-04-05T14:46:53+0000\",\"name\":\"リクルートジョブズ\"},{\"id\":\"565521136842020\",\"created_time\":\"2016-04-05T14:46:52+0000\",\"name\":\"リクルートライフスタイル　人事部\"},{\"id\":\"296160187073769\",\"created_time\":\"2015-05-23T04:24:15+0000\",\"name\":\"お部屋探されサイト ietty\"},{\"id\":\"433181936850877\",\"created_time\":\"2015-02-21T14:06:37+0000\",\"name\":\"聖光学院 中学校・高等学校\"},{\"id\":\"419415601454705\",\"created_time\":\"2013-12-10T11:45:07+0000\",\"name\":\"GB'sCAFE 富山/金沢/慶應/砺波\"},{\"id\":\"261622970537250\",\"created_time\":\"2012-10-24T00:30:16+0000\",\"name\":\"雪マジ！19  19歳なら全国100以上のゲレンデで何回滑ってもタダ！\"}],\"distance_filter\":12,\"full_name\":\"Takafumi  Kinoshita\",\"gender\":0,\"gender_filter\":1,\"name\":\"Takafumi\",\"photos\":[{\"id\":\"21a935e5-c68f-438f-8b2b-2970c101ed31\",\"url\":\"https://images-ssl.gotinder.com/54669869d4ee9bc227702acf/21a935e5-c68f-438f-8b2b-2970c101ed31.webp\",\"fileName\":\"21a935e5-c68f-438f-8b2b-2970c101ed31.webp\",\"fbId\":\"directupload\",\"extension\":\"jpg,webp\",\"processedFiles\":[{\"url\":\"https://images-ssl.gotinder.com/54669869d4ee9bc227702acf/640x640_21a935e5-c68f-438f-8b2b-2970c101ed31.jpg\",\"height\":640,\"width\":640},{\"url\":\"https://images-ssl.gotinder.com/54669869d4ee9bc227702acf/320x320_21a935e5-c68f-438f-8b2b-2970c101ed31.jpg\",\"height\":320,\"width\":320},{\"url\":\"https://images-ssl.gotinder.com/54669869d4ee9bc227702acf/172x172_21a935e5-c68f-438f-8b2b-2970c101ed31.jpg\",\"height\":172,\"width\":172},{\"url\":\"https://images-ssl.gotinder.com/54669869d4ee9bc227702acf/84x84_21a935e5-c68f-438f-8b2b-2970c101ed31.jpg\",\"height\":84,\"width\":84}]},{\"id\":\"46fbff75-6a44-42fd-8409-e63e5a631e30\",\"url\":\"https://images-ssl.gotinder.com/54669869d4ee9bc227702acf/46fbff75-6a44-42fd-8409-e63e5a631e30.webp\",\"fileName\":\"46fbff75-6a44-42fd-8409-e63e5a631e30.webp\",\"fbId\":\"directupload\",\"extension\":\"jpg,webp\",\"processedFiles\":[{\"url\":\"https://images-ssl.gotinder.com/54669869d4ee9bc227702acf/640x640_46fbff75-6a44-42fd-8409-e63e5a631e30.jpg\",\"height\":640,\"width\":640},{\"url\":\"https://images-ssl.gotinder.com/54669869d4ee9bc227702acf/320x320_46fbff75-6a44-42fd-8409-e63e5a631e30.jpg\",\"height\":320,\"width\":320},{\"url\":\"https://images-ssl.gotinder.com/54669869d4ee9bc227702acf/172x172_46fbff75-6a44-42fd-8409-e63e5a631e30.jpg\",\"height\":172,\"width\":172},{\"url\":\"https://images-ssl.gotinder.com/54669869d4ee9bc227702acf/84x84_46fbff75-6a44-42fd-8409-e63e5a631e30.jpg\",\"height\":84,\"width\":84}]},{\"id\":\"18cf6c41-8a9c-4c0a-a2a4-03900662ebe0\",\"url\":\"https://images-ssl.gotinder.com/54669869d4ee9bc227702acf/1080x1080_18cf6c41-8a9c-4c0a-a2a4-03900662ebe0.webp\",\"fileName\":\"18cf6c41-8a9c-4c0a-a2a4-03900662ebe0.webp\",\"fbId\":\"directupload\",\"extension\":\"jpg,webp\",\"processedFiles\":[{\"url\":\"https://images-ssl.gotinder.com/54669869d4ee9bc227702acf/640x640_18cf6c41-8a9c-4c0a-a2a4-03900662ebe0.jpg\",\"height\":640,\"width\":640},{\"url\":\"https://images-ssl.gotinder.com/54669869d4ee9bc227702acf/320x320_18cf6c41-8a9c-4c0a-a2a4-03900662ebe0.jpg\",\"height\":320,\"width\":320},{\"url\":\"https://images-ssl.gotinder.com/54669869d4ee9bc227702acf/172x172_18cf6c41-8a9c-4c0a-a2a4-03900662ebe0.jpg\",\"height\":172,\"width\":172},{\"url\":\"https://images-ssl.gotinder.com/54669869d4ee9bc227702acf/84x84_18cf6c41-8a9c-4c0a-a2a4-03900662ebe0.jpg\",\"height\":84,\"width\":84}]},{\"id\":\"6ccd5d0c-d890-4d06-81f4-a4659c4ebbdc\",\"url\":\"https://images-ssl.gotinder.com/54669869d4ee9bc227702acf/1080x1080_6ccd5d0c-d890-4d06-81f4-a4659c4ebbdc.webp\",\"fileName\":\"6ccd5d0c-d890-4d06-81f4-a4659c4ebbdc.webp\",\"fbId\":\"directupload\",\"extension\":\"jpg,webp\",\"processedFiles\":[{\"url\":\"https://images-ssl.gotinder.com/54669869d4ee9bc227702acf/640x640_6ccd5d0c-d890-4d06-81f4-a4659c4ebbdc.jpg\",\"height\":640,\"width\":640},{\"url\":\"https://images-ssl.gotinder.com/54669869d4ee9bc227702acf/320x320_6ccd5d0c-d890-4d06-81f4-a4659c4ebbdc.jpg\",\"height\":320,\"width\":320},{\"url\":\"https://images-ssl.gotinder.com/54669869d4ee9bc227702acf/172x172_6ccd5d0c-d890-4d06-81f4-a4659c4ebbdc.jpg\",\"height\":172,\"width\":172},{\"url\":\"https://images-ssl.gotinder.com/54669869d4ee9bc227702acf/84x84_6ccd5d0c-d890-4d06-81f4-a4659c4ebbdc.jpg\",\"height\":84,\"width\":84}]},{\"id\":\"716b018c-07f6-4231-ae3c-aa8657d70afc\",\"crop_info\":{\"user\":{\"width_pct\":1,\"x_offset_pct\":0,\"height_pct\":1,\"y_offset_pct\":0},\"algo\":{\"width_pct\":0.6951988935470581,\"x_offset_pct\":0.16541200876235962,\"height_pct\":0.39146894216537476,\"y_offset_pct\":0.16296611726284027},\"processed_by_bullseye\":true,\"user_customized\":false},\"url\":\"https://images-ssl.gotinder.com/54669869d4ee9bc227702acf/1080x1080_716b018c-07f6-4231-ae3c-aa8657d70afc.webp\",\"fileName\":\"716b018c-07f6-4231-ae3c-aa8657d70afc.webp\",\"fbId\":\"directupload\",\"extension\":\"jpg,webp\",\"processedFiles\":[{\"url\":\"https://images-ssl.gotinder.com/54669869d4ee9bc227702acf/640x640_716b018c-07f6-4231-ae3c-aa8657d70afc.jpg\",\"height\":640,\"width\":640},{\"url\":\"https://images-ssl.gotinder.com/54669869d4ee9bc227702acf/320x320_716b018c-07f6-4231-ae3c-aa8657d70afc.jpg\",\"height\":320,\"width\":320},{\"url\":\"https://images-ssl.gotinder.com/54669869d4ee9bc227702acf/172x172_716b018c-07f6-4231-ae3c-aa8657d70afc.jpg\",\"height\":172,\"width\":172},{\"url\":\"https://images-ssl.gotinder.com/54669869d4ee9bc227702acf/84x84_716b018c-07f6-4231-ae3c-aa8657d70afc.jpg\",\"height\":84,\"width\":84}]},{\"id\":\"9021f43d-d8c9-4bf2-b701-57a819f3c5a0\",\"crop_info\":{\"user\":{\"width_pct\":1,\"x_offset_pct\":0,\"height_pct\":1,\"y_offset_pct\":0},\"algo\":{\"width_pct\":0.08015228062868118,\"x_offset_pct\":0.23401883244514465,\"height_pct\":0.09428694099187851,\"y_offset_pct\":0.12509101629257202},\"processed_by_bullseye\":true,\"user_customized\":false},\"url\":\"https://images-ssl.gotinder.com/54669869d4ee9bc227702acf/1080x1080_9021f43d-d8c9-4bf2-b701-57a819f3c5a0.webp\",\"fileName\":\"9021f43d-d8c9-4bf2-b701-57a819f3c5a0.webp\",\"fbId\":\"directupload\",\"extension\":\"jpg,webp\",\"processedFiles\":[{\"url\":\"https://images-ssl.gotinder.com/54669869d4ee9bc227702acf/640x640_9021f43d-d8c9-4bf2-b701-57a819f3c5a0.jpg\",\"height\":640,\"width\":640},{\"url\":\"https://images-ssl.gotinder.com/54669869d4ee9bc227702acf/320x320_9021f43d-d8c9-4bf2-b701-57a819f3c5a0.jpg\",\"height\":320,\"width\":320},{\"url\":\"https://images-ssl.gotinder.com/54669869d4ee9bc227702acf/172x172_9021f43d-d8c9-4bf2-b701-57a819f3c5a0.jpg\",\"height\":172,\"width\":172},{\"url\":\"https://images-ssl.gotinder.com/54669869d4ee9bc227702acf/84x84_9021f43d-d8c9-4bf2-b701-57a819f3c5a0.jpg\",\"height\":84,\"width\":84}]},{\"id\":\"91ad1163-e83c-43c0-8c24-7411e518a885\",\"crop_info\":{\"user\":{\"width_pct\":1,\"x_offset_pct\":0,\"height_pct\":0.8,\"y_offset_pct\":0},\"algo\":{\"width_pct\":0.1796143352985382,\"x_offset_pct\":0.3992837965488434,\"height_pct\":0.16107621788978577,\"y_offset_pct\":0},\"processed_by_bullseye\":true,\"user_customized\":false},\"url\":\"https://images-ssl.gotinder.com/54669869d4ee9bc227702acf/1080x1350_91ad1163-e83c-43c0-8c24-7411e518a885.webp\",\"fileName\":\"91ad1163-e83c-43c0-8c24-7411e518a885.webp\",\"fbId\":\"directupload\",\"extension\":\"jpg,webp\",\"processedFiles\":[{\"url\":\"https://images-ssl.gotinder.com/54669869d4ee9bc227702acf/640x800_91ad1163-e83c-43c0-8c24-7411e518a885.jpg\",\"height\":800,\"width\":640},{\"url\":\"https://images-ssl.gotinder.com/54669869d4ee9bc227702acf/320x400_91ad1163-e83c-43c0-8c24-7411e518a885.jpg\",\"height\":400,\"width\":320},{\"url\":\"https://images-ssl.gotinder.com/54669869d4ee9bc227702acf/172x216_91ad1163-e83c-43c0-8c24-7411e518a885.jpg\",\"height\":216,\"width\":172},{\"url\":\"https://images-ssl.gotinder.com/54669869d4ee9bc227702acf/84x106_91ad1163-e83c-43c0-8c24-7411e518a885.jpg\",\"height\":106,\"width\":84}]},{\"id\":\"0b02093a-0318-4bb2-aa93-609993a17b37\",\"crop_info\":{\"user\":{\"width_pct\":1,\"x_offset_pct\":0,\"height_pct\":0.8,\"y_offset_pct\":0},\"algo\":{\"width_pct\":0.22142750024795532,\"x_offset_pct\":0.47883331775665283,\"height_pct\":0.18345487117767334,\"y_offset_pct\":0.14283660054206848},\"processed_by_bullseye\":true,\"user_customized\":false},\"url\":\"https://images-ssl.gotinder.com/54669869d4ee9bc227702acf/1080x1350_e59791e3-4f6b-438d-9df5-c568bc1194ea.webp\",\"fileName\":\"e59791e3-4f6b-438d-9df5-c568bc1194ea.webp\",\"fbId\":\"directupload\",\"extension\":\"jpg,webp\",\"processedFiles\":[{\"url\":\"https://images-ssl.gotinder.com/54669869d4ee9bc227702acf/640x800_e59791e3-4f6b-438d-9df5-c568bc1194ea.jpg\",\"height\":800,\"width\":640},{\"url\":\"https://images-ssl.gotinder.com/54669869d4ee9bc227702acf/320x400_e59791e3-4f6b-438d-9df5-c568bc1194ea.jpg\",\"height\":400,\"width\":320},{\"url\":\"https://images-ssl.gotinder.com/54669869d4ee9bc227702acf/172x216_e59791e3-4f6b-438d-9df5-c568bc1194ea.jpg\",\"height\":216,\"width\":172},{\"url\":\"https://images-ssl.gotinder.com/54669869d4ee9bc227702acf/84x106_e59791e3-4f6b-438d-9df5-c568bc1194ea.jpg\",\"height\":106,\"width\":84}]},{\"id\":\"06758506-22f8-4007-9b95-22cdfa750a8a\",\"crop_info\":{\"user\":{\"width_pct\":1,\"x_offset_pct\":0,\"height_pct\":0.8,\"y_offset_pct\":0},\"algo\":{\"width_pct\":0.6837071936926804,\"x_offset_pct\":0.1814169560559094,\"height_pct\":0.24175428344868125,\"y_offset_pct\":0.23175946153700352},\"processed_by_bullseye\":true,\"user_customized\":false},\"url\":\"https://images-ssl.gotinder.com/54669869d4ee9bc227702acf/1080x1350_06758506-22f8-4007-9b95-22cdfa750a8a.webp\",\"fileName\":\"06758506-22f8-4007-9b95-22cdfa750a8a.webp\",\"fbId\":\"directupload\",\"extension\":\"jpg,webp\",\"processedFiles\":[{\"url\":\"https://images-ssl.gotinder.com/54669869d4ee9bc227702acf/640x800_06758506-22f8-4007-9b95-22cdfa750a8a.jpg\",\"height\":800,\"width\":640},{\"url\":\"https://images-ssl.gotinder.com/54669869d4ee9bc227702acf/320x400_06758506-22f8-4007-9b95-22cdfa750a8a.jpg\",\"height\":400,\"width\":320},{\"url\":\"https://images-ssl.gotinder.com/54669869d4ee9bc227702acf/172x216_06758506-22f8-4007-9b95-22cdfa750a8a.jpg\",\"height\":216,\"width\":172},{\"url\":\"https://images-ssl.gotinder.com/54669869d4ee9bc227702acf/84x106_06758506-22f8-4007-9b95-22cdfa750a8a.jpg\",\"height\":106,\"width\":84}]}],\"photos_processing\":false,\"photo_optimizer_enabled\":false,\"photo_optimizer_has_result\":true,\"ping_time\":\"2019-10-14T09:48:21.304Z\",\"spotify_connected\":false,\"jobs\":[{\"company\":{\"displayed\":true,\"name\":\"エンジニア\"}}],\"schools\":[{\"id\":\"218890828131070\",\"name\":\"慶應義塾 / Keio University\",\"displayed\":true}],\"squads_discoverable\":false,\"squads\":[],\"can_create_squad\":false,\"squad_ads_shown\":false,\"discoverable_party\":\"everyone\",\"hide_ads\":false,\"hide_age\":false,\"hide_distance\":false,\"phone_id\":\"818068080028\",\"email_settings\":{\"new_matches\":true,\"messages\":true,\"promotions\":true}}}\n"
     ]
    }
   ],
   "source": [
    "import requests\n",
    "import json\n",
    "\n",
    "\n",
    "# Tinderのトークンの取得\n",
    "with requests.Session() as s:\n",
    "    params = {\"token\":\"EAAGm0PX4ZCpsBALZBBs2VdMbQXug3wmefmw2Wa9ub54oW5ApJZCfmT8jpZBou0op8XYDZA0Pi9tRsTtJf8dQwtNrD037Lc5xpI9VPIMRPSd0MycpEW7VENNtci3dxQWQHiyiXcj5ksOdnI6T405X0TElWO3CyIcZBpyUgqJuD4e5zKTDVdNFK1RTVhcSaN6YF6TZAZBZBL7hOLwZDZD\" }\n",
    "    response = s.post(\n",
    "        \"https://api.gotinder.com/v2/auth/login/facebook\", data=json.dumps(params))\n",
    "    response = json.loads(response.text)\n",
    "    api_token = response[\"data\"][\"api_token\"]\n",
    "\n",
    "    # Tinderにログイン\n",
    "    headers = {\"X-Auth-Token\":\"04dc2f81-5b6b-4e40-9aae-ddd7d663cb10\" , \"Content-type\": \"application/json\",\n",
    "               \"User-agent\": \"Tinder/10.1.0 (iPhone; iOS 12.1; Scale/2.00)\"}\n",
    "    s.headers.update(headers)\n",
    "    meta = s.get(\"https://api.gotinder.com/meta\")\n",
    "    print(meta.text)"
   ]
  },
  {
   "cell_type": "code",
   "execution_count": null,
   "metadata": {},
   "outputs": [],
   "source": []
  }
 ],
 "metadata": {
  "kernelspec": {
   "display_name": "Python 3",
   "language": "python",
   "name": "python3"
  },
  "language_info": {
   "codemirror_mode": {
    "name": "ipython",
    "version": 3
   },
   "file_extension": ".py",
   "mimetype": "text/x-python",
   "name": "python",
   "nbconvert_exporter": "python",
   "pygments_lexer": "ipython3",
   "version": "3.7.3"
  }
 },
 "nbformat": 4,
 "nbformat_minor": 2
}
