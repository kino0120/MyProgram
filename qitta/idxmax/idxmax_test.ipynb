{
 "cells": [
  {
   "cell_type": "code",
   "execution_count": 1,
   "metadata": {},
   "outputs": [],
   "source": [
    "import pandas as pd\n",
    "import numpy as np"
   ]
  },
  {
   "cell_type": "code",
   "execution_count": 31,
   "metadata": {},
   "outputs": [
    {
     "name": "stdout",
     "output_type": "stream",
     "text": [
      "df\n"
     ]
    },
    {
     "data": {
      "text/html": [
       "<div>\n",
       "<style scoped>\n",
       "    .dataframe tbody tr th:only-of-type {\n",
       "        vertical-align: middle;\n",
       "    }\n",
       "\n",
       "    .dataframe tbody tr th {\n",
       "        vertical-align: top;\n",
       "    }\n",
       "\n",
       "    .dataframe thead th {\n",
       "        text-align: right;\n",
       "    }\n",
       "</style>\n",
       "<table border=\"1\" class=\"dataframe\">\n",
       "  <thead>\n",
       "    <tr style=\"text-align: right;\">\n",
       "      <th></th>\n",
       "      <th>a</th>\n",
       "      <th>b</th>\n",
       "      <th>c</th>\n",
       "      <th>d</th>\n",
       "      <th>e</th>\n",
       "    </tr>\n",
       "  </thead>\n",
       "  <tbody>\n",
       "    <tr>\n",
       "      <th>A</th>\n",
       "      <td>26</td>\n",
       "      <td>23</td>\n",
       "      <td>52</td>\n",
       "      <td>88</td>\n",
       "      <td>25</td>\n",
       "    </tr>\n",
       "    <tr>\n",
       "      <th>B</th>\n",
       "      <td>0</td>\n",
       "      <td>53</td>\n",
       "      <td>64</td>\n",
       "      <td>92</td>\n",
       "      <td>37</td>\n",
       "    </tr>\n",
       "    <tr>\n",
       "      <th>C</th>\n",
       "      <td>44</td>\n",
       "      <td>74</td>\n",
       "      <td>92</td>\n",
       "      <td>74</td>\n",
       "      <td>70</td>\n",
       "    </tr>\n",
       "    <tr>\n",
       "      <th>D</th>\n",
       "      <td>53</td>\n",
       "      <td>59</td>\n",
       "      <td>80</td>\n",
       "      <td>19</td>\n",
       "      <td>23</td>\n",
       "    </tr>\n",
       "    <tr>\n",
       "      <th>E</th>\n",
       "      <td>57</td>\n",
       "      <td>68</td>\n",
       "      <td>76</td>\n",
       "      <td>25</td>\n",
       "      <td>99</td>\n",
       "    </tr>\n",
       "    <tr>\n",
       "      <th>F</th>\n",
       "      <td>49</td>\n",
       "      <td>65</td>\n",
       "      <td>24</td>\n",
       "      <td>35</td>\n",
       "      <td>12</td>\n",
       "    </tr>\n",
       "    <tr>\n",
       "      <th>G</th>\n",
       "      <td>72</td>\n",
       "      <td>4</td>\n",
       "      <td>14</td>\n",
       "      <td>7</td>\n",
       "      <td>47</td>\n",
       "    </tr>\n",
       "    <tr>\n",
       "      <th>H</th>\n",
       "      <td>0</td>\n",
       "      <td>34</td>\n",
       "      <td>38</td>\n",
       "      <td>45</td>\n",
       "      <td>66</td>\n",
       "    </tr>\n",
       "    <tr>\n",
       "      <th>I</th>\n",
       "      <td>86</td>\n",
       "      <td>36</td>\n",
       "      <td>54</td>\n",
       "      <td>79</td>\n",
       "      <td>40</td>\n",
       "    </tr>\n",
       "    <tr>\n",
       "      <th>J</th>\n",
       "      <td>51</td>\n",
       "      <td>8</td>\n",
       "      <td>7</td>\n",
       "      <td>47</td>\n",
       "      <td>67</td>\n",
       "    </tr>\n",
       "  </tbody>\n",
       "</table>\n",
       "</div>"
      ],
      "text/plain": [
       "    a   b   c   d   e\n",
       "A  26  23  52  88  25\n",
       "B   0  53  64  92  37\n",
       "C  44  74  92  74  70\n",
       "D  53  59  80  19  23\n",
       "E  57  68  76  25  99\n",
       "F  49  65  24  35  12\n",
       "G  72   4  14   7  47\n",
       "H   0  34  38  45  66\n",
       "I  86  36  54  79  40\n",
       "J  51   8   7  47  67"
      ]
     },
     "execution_count": 31,
     "metadata": {},
     "output_type": "execute_result"
    }
   ],
   "source": [
    "data = np.random.randint(0,100,[10,5])\n",
    "df = pd.DataFrame(data,\n",
    "                  index=['A','B','C','D','E','F','G','H','I','J'],\n",
    "                  columns=['a','b','c','d','e'])\n",
    "print('df')\n",
    "df"
   ]
  },
  {
   "cell_type": "code",
   "execution_count": 24,
   "metadata": {},
   "outputs": [
    {
     "name": "stdout",
     "output_type": "stream",
     "text": [
      "max()\n"
     ]
    },
    {
     "data": {
      "text/plain": [
       "a    85\n",
       "b    77\n",
       "c    83\n",
       "d    84\n",
       "e    92\n",
       "dtype: int64"
      ]
     },
     "execution_count": 24,
     "metadata": {},
     "output_type": "execute_result"
    }
   ],
   "source": [
    "print('max()')\n",
    "df.max()"
   ]
  },
  {
   "cell_type": "markdown",
   "metadata": {},
   "source": [
    "#idxmax\n",
    "df.idxmax()"
   ]
  },
  {
   "cell_type": "code",
   "execution_count": 25,
   "metadata": {},
   "outputs": [
    {
     "name": "stdout",
     "output_type": "stream",
     "text": [
      "idxmax()\n"
     ]
    },
    {
     "data": {
      "text/plain": [
       "a    C\n",
       "b    B\n",
       "c    F\n",
       "d    B\n",
       "e    G\n",
       "dtype: object"
      ]
     },
     "execution_count": 25,
     "metadata": {},
     "output_type": "execute_result"
    }
   ],
   "source": [
    "print('idxmax()')\n",
    "df.idxmax()"
   ]
  },
  {
   "cell_type": "code",
   "execution_count": 59,
   "metadata": {},
   "outputs": [
    {
     "data": {
      "text/plain": [
       "array([[79, 97, 10, ..., 79, 84, 64],\n",
       "       [90, 64, 18, ..., 68, 11, 94],\n",
       "       [54, 54, 45, ..., 78, 36, 66],\n",
       "       ...,\n",
       "       [ 0, 12, 94, ..., 34,  2, 24],\n",
       "       [ 7, 95, 80, ..., 45, 66, 52],\n",
       "       [ 7, 74, 35, ..., 51, 87,  8]], dtype=int8)"
      ]
     },
     "execution_count": 59,
     "metadata": {},
     "output_type": "execute_result"
    }
   ],
   "source": [
    "import time\n",
    "arr = np.random.randint(0,100,[10**5,10**4],dtype='int8')\n",
    "arr"
   ]
  },
  {
   "cell_type": "code",
   "execution_count": 60,
   "metadata": {},
   "outputs": [
    {
     "name": "stdout",
     "output_type": "stream",
     "text": [
      "<class 'pandas.core.frame.DataFrame'>\n",
      "RangeIndex: 100000 entries, 0 to 99999\n",
      "Columns: 10000 entries, 0 to 9999\n",
      "dtypes: int8(10000)\n",
      "memory usage: 953.7 MB\n"
     ]
    }
   ],
   "source": [
    "df = pd.DataFrame(arr, dtype='int8')\n",
    "df.info()"
   ]
  },
  {
   "cell_type": "code",
   "execution_count": 61,
   "metadata": {},
   "outputs": [
    {
     "name": "stdout",
     "output_type": "stream",
     "text": [
      "max()_time: 10.667221784591675\n",
      "idxmax()_time: 19.077805042266846\n"
     ]
    }
   ],
   "source": [
    "ts = time.time()\n",
    "df.max()\n",
    "te =time.time()\n",
    "print('max()_time:',te-ts)\n",
    "ts = time.time()\n",
    "df.idxmax()\n",
    "te =time.time()\n",
    "print('idxmax()_time:',te-ts)"
   ]
  },
  {
   "cell_type": "code",
   "execution_count": 14,
   "metadata": {},
   "outputs": [
    {
     "name": "stdout",
     "output_type": "stream",
     "text": [
      "    def idxmax(self, axis=0, skipna=True):\n",
      "        \"\"\"\n",
      "        Return index of first occurrence of maximum over requested axis.\n",
      "        NA/null values are excluded.\n",
      "\n",
      "        Parameters\n",
      "        ----------\n",
      "        axis : {0 or 'index', 1 or 'columns'}, default 0\n",
      "            0 or 'index' for row-wise, 1 or 'columns' for column-wise\n",
      "        skipna : boolean, default True\n",
      "            Exclude NA/null values. If an entire row/column is NA, the result\n",
      "            will be NA.\n",
      "\n",
      "        Returns\n",
      "        -------\n",
      "        idxmax : Series\n",
      "\n",
      "        Raises\n",
      "        ------\n",
      "        ValueError\n",
      "            * If the row/column is empty\n",
      "\n",
      "        See Also\n",
      "        --------\n",
      "        Series.idxmax\n",
      "\n",
      "        Notes\n",
      "        -----\n",
      "        This method is the DataFrame version of ``ndarray.argmax``.\n",
      "        \"\"\"\n",
      "        axis = self._get_axis_number(axis)\n",
      "        indices = nanops.nanargmax(self.values, axis=axis, skipna=skipna)\n",
      "        index = self._get_axis(axis)\n",
      "        result = [index[i] if i >= 0 else np.nan for i in indices]\n",
      "        return Series(result, index=self._get_agg_axis(axis))\n",
      "\n"
     ]
    }
   ],
   "source": [
    "import inspect\n",
    "print(inspect.getsource(pd.DataFrame.idxmax))"
   ]
  },
  {
   "cell_type": "code",
   "execution_count": 55,
   "metadata": {},
   "outputs": [
    {
     "data": {
      "text/plain": [
       "(100000, 10000)"
      ]
     },
     "execution_count": 55,
     "metadata": {},
     "output_type": "execute_result"
    }
   ],
   "source": [
    "arr.shape"
   ]
  },
  {
   "cell_type": "code",
   "execution_count": 62,
   "metadata": {},
   "outputs": [
    {
     "name": "stdout",
     "output_type": "stream",
     "text": [
      "max()_time: 0.8477091789245605\n",
      "argmax()_time: 13.701550960540771\n"
     ]
    }
   ],
   "source": [
    "ts = time.time()\n",
    "_max = np.max(arr,axis=0)\n",
    "te =time.time()\n",
    "print('max()_time:',te-ts)\n",
    "\n",
    "ts = time.time()\n",
    "_argmax = np.argmax(arr,axis=0)\n",
    "te =time.time()\n",
    "print('argmax()_time:',te-ts)"
   ]
  },
  {
   "cell_type": "code",
   "execution_count": 63,
   "metadata": {},
   "outputs": [
    {
     "name": "stdout",
     "output_type": "stream",
     "text": [
      "[99 99 99 ... 99 99 99]\n"
     ]
    }
   ],
   "source": [
    "print(_max)"
   ]
  },
  {
   "cell_type": "code",
   "execution_count": 65,
   "metadata": {},
   "outputs": [
    {
     "name": "stdout",
     "output_type": "stream",
     "text": [
      "[56 78  3 ... 30  7 21]\n"
     ]
    }
   ],
   "source": [
    "print(_argmax)"
   ]
  },
  {
   "cell_type": "code",
   "execution_count": null,
   "metadata": {},
   "outputs": [],
   "source": []
  }
 ],
 "metadata": {
  "kernelspec": {
   "display_name": "Python 3",
   "language": "python",
   "name": "python3"
  },
  "language_info": {
   "codemirror_mode": {
    "name": "ipython",
    "version": 3
   },
   "file_extension": ".py",
   "mimetype": "text/x-python",
   "name": "python",
   "nbconvert_exporter": "python",
   "pygments_lexer": "ipython3",
   "version": "3.7.3"
  }
 },
 "nbformat": 4,
 "nbformat_minor": 2
}
